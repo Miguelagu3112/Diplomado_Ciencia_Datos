{
  "cells": [
    {
      "cell_type": "markdown",
      "metadata": {
        "id": "view-in-github",
        "colab_type": "text"
      },
      "source": [
        "<a href=\"https://colab.research.google.com/github/Miguelagu3112/Diplomado_Ciencia_Datos/blob/main/Tarea_1.ipynb\" target=\"_parent\"><img src=\"https://colab.research.google.com/assets/colab-badge.svg\" alt=\"Open In Colab\"/></a>"
      ]
    },
    {
      "cell_type": "markdown",
      "id": "d181c485-8f48-4e17-907e-6b05d662db6a",
      "metadata": {
        "id": "d181c485-8f48-4e17-907e-6b05d662db6a"
      },
      "source": [
        "# <span style=\"color:#222F77\"><center>**REGRESION LINEAL**</center></span>"
      ]
    },
    {
      "cell_type": "markdown",
      "id": "6ceb6956-aca0-414b-b8df-20bfd7b34d0b",
      "metadata": {
        "id": "6ceb6956-aca0-414b-b8df-20bfd7b34d0b"
      },
      "source": [
        "![Regresión Lineal.png](attachment:b6f24322-4c3f-44af-a361-435a905a6149.png)\n",
        "\n",
        "*<center>Fuente:<a href=\"https://es.wikipedia.org/wiki/Regresión_lineal#Ejemplos_de_aplicación_de_la_regresión_lineal\"> View on Wikipedia.org </a> </center>*"
      ]
    },
    {
      "cell_type": "markdown",
      "id": "6d4886e9-da22-4fff-a2a9-6ff2c2eef81a",
      "metadata": {
        "id": "6d4886e9-da22-4fff-a2a9-6ff2c2eef81a"
      },
      "source": [
        "*En estadística la [regresión lineal](https://es.wikipedia.org/wiki/Regresi%C3%B3n_lineal),  o ajuste lineal es un modelo matemático usado para aproximar la relación de dependencia entre una variable dependiente **Y**, *m* variables independientes **X** con *m* ∈ **Z** y un término aleatorio ε . Este método es aplicable en muchas situaciones en las que se estudia la relación entre dos o más variables o predecir un comportamiento, algunas incluso sin relación con la tecnología. En caso de que no se pueda aplicar un modelo de regresión a un estudio, se dice que no hay correlación entre las variables estudiadas. Este modelo puede ser expresado como:*"
      ]
    },
    {
      "cell_type": "markdown",
      "id": "59a6d9f1-2070-4fa6-9dbf-cbc958bae8cc",
      "metadata": {
        "id": "59a6d9f1-2070-4fa6-9dbf-cbc958bae8cc"
      },
      "source": [
        "\\begin{align}\n",
        "    Y = β_{0}+β_{1}X_{i}+...+β_{m}X_{m}+\\epsilon\n",
        "\\end{align}"
      ]
    },
    {
      "cell_type": "markdown",
      "id": "5c0e7108-4b97-4a05-9ed8-47f67347ac2c",
      "metadata": {
        "id": "5c0e7108-4b97-4a05-9ed8-47f67347ac2c"
      },
      "source": [
        "### **ACERCA DEL AUTOR**"
      ]
    },
    {
      "cell_type": "markdown",
      "id": "695bd827-d0cc-4251-bb2d-a93a11fbc860",
      "metadata": {
        "id": "695bd827-d0cc-4251-bb2d-a93a11fbc860"
      },
      "source": [
        "![img.jpg](attachment:242c8c8b-0f89-4257-b2a1-a61eabe3e758.jpg)"
      ]
    },
    {
      "cell_type": "markdown",
      "id": "31035f52-7246-4620-8c76-e415221c29b8",
      "metadata": {
        "id": "31035f52-7246-4620-8c76-e415221c29b8"
      },
      "source": [
        "*Ingeniero Químico y especialista en Gerencia de la Calidad de la facultad de educación permanente y avanzada de la Universidad de América. Con conocimientos y experiencia en el desarrollo y operación de procesos industriales y su administración, mediante la implementación de sistemas integrados de calidad, que garanticen las buenas prácticas de manufactura y optimización de recursos tanto materiales como financieros en una organización empresarial.*"
      ]
    }
  ],
  "metadata": {
    "kernelspec": {
      "display_name": "Python 3 (ipykernel)",
      "language": "python",
      "name": "python3"
    },
    "language_info": {
      "codemirror_mode": {
        "name": "ipython",
        "version": 3
      },
      "file_extension": ".py",
      "mimetype": "text/x-python",
      "name": "python",
      "nbconvert_exporter": "python",
      "pygments_lexer": "ipython3",
      "version": "3.9.13"
    },
    "colab": {
      "provenance": [],
      "include_colab_link": true
    }
  },
  "nbformat": 4,
  "nbformat_minor": 5
}